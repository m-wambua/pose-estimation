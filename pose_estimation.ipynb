{
 "cells": [
  {
   "cell_type": "code",
   "execution_count": 2,
   "id": "8de71885-0c56-48a9-ae7f-bcffdd8014d5",
   "metadata": {},
   "outputs": [],
   "source": [
    "# Install and import dependencies\n",
    "#load model\n",
    "#make detection\n",
    "#draw keypoints\n",
    "#draw edges\n",
    "\n"
   ]
  },
  {
   "cell_type": "code",
   "execution_count": 4,
   "id": "621ad4f6-3a16-41ee-af7d-93c0ba603b25",
   "metadata": {},
   "outputs": [
    {
     "name": "stdout",
     "output_type": "stream",
     "text": [
      "Collecting tensorflow==2.8\n",
      "  Downloading tensorflow-2.8.0-cp310-cp310-win_amd64.whl (438.0 MB)\n",
      "     ------------------------------------ 438.0/438.0 MB 928.1 kB/s eta 0:00:00\n"
     ]
    },
    {
     "name": "stderr",
     "output_type": "stream",
     "text": [
      "WARNING: Ignoring invalid distribution -p (c:\\python310\\lib\\site-packages)\n",
      "WARNING: Ignoring invalid distribution -p (c:\\python310\\lib\\site-packages)\n",
      "WARNING: Ignoring invalid distribution -ip (c:\\python310\\lib\\site-packages)\n",
      "WARNING: Ignoring invalid distribution - (c:\\python310\\lib\\site-packages)\n",
      "WARNING: Ignoring invalid distribution -p (c:\\python310\\lib\\site-packages)\n",
      "WARNING: Ignoring invalid distribution -p (c:\\python310\\lib\\site-packages)\n",
      "WARNING: Ignoring invalid distribution -ip (c:\\python310\\lib\\site-packages)\n",
      "WARNING: Ignoring invalid distribution - (c:\\python310\\lib\\site-packages)\n",
      "ERROR: Could not find a version that satisfies the requirement tensorflow-gpu==2.4.1 (from versions: 2.8.0rc1, 2.8.0, 2.8.1, 2.8.2, 2.8.3, 2.8.4, 2.9.0rc0, 2.9.0rc1, 2.9.0rc2, 2.9.0, 2.9.1, 2.9.2, 2.9.3, 2.10.0rc0, 2.10.0rc1, 2.10.0rc2, 2.10.0rc3, 2.10.0, 2.10.1, 2.12.0)\n",
      "ERROR: No matching distribution found for tensorflow-gpu==2.4.1\n",
      "WARNING: Ignoring invalid distribution -p (c:\\python310\\lib\\site-packages)\n",
      "WARNING: Ignoring invalid distribution -p (c:\\python310\\lib\\site-packages)\n",
      "WARNING: Ignoring invalid distribution -ip (c:\\python310\\lib\\site-packages)\n",
      "WARNING: Ignoring invalid distribution - (c:\\python310\\lib\\site-packages)\n",
      "\n",
      "[notice] A new release of pip available: 22.2.2 -> 23.0\n",
      "[notice] To update, run: python.exe -m pip install --upgrade pip\n"
     ]
    }
   ],
   "source": [
    "!pip install tensorflow==2.8 tensorflow-gpu==2.8 opencv-python matplotlib"
   ]
  },
  {
   "cell_type": "code",
   "execution_count": 1,
   "id": "4c3bc7e8-4ecc-4519-93c8-1e1d63a86f92",
   "metadata": {},
   "outputs": [],
   "source": [
    "import tensorflow as tf\n",
    "import numpy as np\n",
    "from matplotlib import pyplot as plt\n",
    "import cv2\n"
   ]
  },
  {
   "cell_type": "code",
   "execution_count": 2,
   "id": "f021fb58-2e86-4600-ad16-f57931e0d34d",
   "metadata": {},
   "outputs": [],
   "source": [
    "\n",
    "#=======================================\n",
    "# load the model\n",
    "interpreter= tf.lite.Interpreter(model_path='lite-model_movenet_singlepose_lightning_3.tflite')\n",
    "interpreter.allocate_tensors()\n",
    "#=======================================\n"
   ]
  },
  {
   "cell_type": "code",
   "execution_count": 3,
   "id": "4c2ef151-ca77-47f2-981e-f566afe7cfcf",
   "metadata": {},
   "outputs": [],
   "source": [
    "#============================\n",
    "# Draw Key Points\n",
    "def draw_keypoints(frame,keypoints,confidence_threshold):\n",
    "    y,x,c=frame.shape\n",
    "    shaped=np.squeeze(np.multiply(keypoints,[y,x,1]))\n",
    "\n",
    "    for kp in shaped:\n",
    "        ky,kx,kp_conf=kp\n",
    "        if kp_conf>confidence_threshold:\n",
    "            cv2.circle(frame,(int(kx),int(ky)),4,(0,255,0),-1)\n",
    "#============================\n"
   ]
  },
  {
   "cell_type": "code",
   "execution_count": 4,
   "id": "4af84aa3",
   "metadata": {},
   "outputs": [],
   "source": [
    "\n",
    "#================================\n",
    "# Draw edges\n",
    "def draw_connections(frame,keypoints,edges,confidence_threshold):\n",
    "    y,x,c=frame.shape\n",
    "    shaped=np.squeeze(np.multiply(keypoints,[y,x,1]))\n",
    "\n",
    "    for edge ,color in edges.items():\n",
    "        p1,p2=edge\n",
    "\n",
    "        y1,x1, c1=shaped[p1]\n",
    "        y2,x2,c2=shaped[p2]\n",
    "\n",
    "        if (c1>confidence_threshold) & (c2>confidence_threshold):\n",
    "            cv2.line(frame,(int(x1),int(y1)),(int(x2),int(y2)),(255,0,0),2)\n",
    "#======================================\n"
   ]
  },
  {
   "cell_type": "code",
   "execution_count": 5,
   "id": "3f43754a",
   "metadata": {},
   "outputs": [],
   "source": [
    "\n",
    "EDGES={\n",
    "    (0,1):'m',\n",
    "    (0,2):'c',\n",
    "    (1,3):'m',\n",
    "    (2,4):'c',\n",
    "    (0,5):'m',\n",
    "    (0,6):'c',\n",
    "    (5,7):'m',\n",
    "    (7,9):'m',\n",
    "    (6,8):'c',\n",
    "    (8,10):'c',\n",
    "    (5,6):'y',\n",
    "    (5,11):'m',\n",
    "    (6,12):'c',\n",
    "    (11,12):'y',\n",
    "    (11,13):'m',\n",
    "    (13,15):'m',\n",
    "    (12,14):'c',\n",
    "    (14,16):'c'\n",
    "\n",
    "}\n"
   ]
  },
  {
   "cell_type": "code",
   "execution_count": 6,
   "id": "2cc16e5e",
   "metadata": {},
   "outputs": [],
   "source": [
    "#===================================\n",
    "cap=cv2.VideoCapture(0)\n",
    "while cap.isOpened():\n",
    "    ret,frame=cap.read()\n",
    "    #=====================================\n",
    "    # Reshape image\n",
    "    img=frame.copy()\n",
    "    img=tf.image.resize_with_pad(np.expand_dims(img,axis=0),192,192)\n",
    "    input_image=tf.cast(img,dtype=tf.float32)\n",
    "    #=======================================\n",
    "\n",
    "    #=======================================\n",
    "    #setup input and output\n",
    "    input_details=interpreter.get_input_details()\n",
    "    output_details=interpreter.get_output_details()\n",
    "    #=======================================\n",
    "\n",
    "    #=======================================\n",
    "    # Make predictions\n",
    "\n",
    "    interpreter.set_tensor(input_details[0]['index'],np.array(input_image))\n",
    "    interpreter.invoke()\n",
    "    keypoints_with_scores=interpreter.get_tensor(output_details[0]['index'])\n",
    "\n",
    "    #print(keypoints_with_scores)\n",
    "    #========================================\n",
    "    draw_connections(frame,keypoints_with_scores,EDGES,0.4)\n",
    "\n",
    "    draw_keypoints(frame,keypoints_with_scores,0.4)\n",
    "\n",
    "    cv2.imshow('Movenet Lightining', frame)\n",
    "    \n",
    "    if cv2.waitKey(10) & 0xFF==ord('q'):\n",
    "        break\n",
    "        \n",
    "cap.release()\n",
    "cv2.destroyAllWindows()\n",
    "#=====================================\n"
   ]
  },
  {
   "cell_type": "code",
   "execution_count": 7,
   "id": "056a1cfb-3f25-4181-8ee7-1c598ae31cc4",
   "metadata": {},
   "outputs": [],
   "source": []
  },
  {
   "cell_type": "code",
   "execution_count": 13,
   "id": "03fcfabf-f3f1-4f23-af88-17146c36da9b",
   "metadata": {},
   "outputs": [
    {
     "ename": "AttributeError",
     "evalue": "'NoneType' object has no attribute 'copy'",
     "output_type": "error",
     "traceback": [
      "\u001b[1;31m---------------------------------------------------------------------------\u001b[0m",
      "\u001b[1;31mAttributeError\u001b[0m                            Traceback (most recent call last)",
      "Input \u001b[1;32mIn [13]\u001b[0m, in \u001b[0;36m<cell line: 2>\u001b[1;34m()\u001b[0m\n\u001b[0;32m      3\u001b[0m ret,frame\u001b[38;5;241m=\u001b[39mcap\u001b[38;5;241m.\u001b[39mread()\n\u001b[0;32m      4\u001b[0m \u001b[38;5;66;03m#=====================================\u001b[39;00m\n\u001b[0;32m      5\u001b[0m \u001b[38;5;66;03m# Reshape image\u001b[39;00m\n\u001b[1;32m----> 6\u001b[0m img\u001b[38;5;241m=\u001b[39m\u001b[43mframe\u001b[49m\u001b[38;5;241;43m.\u001b[39;49m\u001b[43mcopy\u001b[49m()\n\u001b[0;32m      7\u001b[0m img\u001b[38;5;241m=\u001b[39mtf\u001b[38;5;241m.\u001b[39mimage\u001b[38;5;241m.\u001b[39mresize_with_pad(np\u001b[38;5;241m.\u001b[39mexpand_dims(img,axis\u001b[38;5;241m=\u001b[39m\u001b[38;5;241m0\u001b[39m),\u001b[38;5;241m192\u001b[39m,\u001b[38;5;241m192\u001b[39m)\n\u001b[0;32m      8\u001b[0m input_image\u001b[38;5;241m=\u001b[39mtf\u001b[38;5;241m.\u001b[39mcast(img,dtype\u001b[38;5;241m=\u001b[39mtf\u001b[38;5;241m.\u001b[39mfloat32)\n",
      "\u001b[1;31mAttributeError\u001b[0m: 'NoneType' object has no attribute 'copy'"
     ]
    }
   ],
   "source": []
  },
  {
   "cell_type": "code",
   "execution_count": 17,
   "id": "ff6398dc",
   "metadata": {},
   "outputs": [],
   "source": []
  },
  {
   "cell_type": "code",
   "execution_count": 19,
   "id": "aeb8c7eb-a368-4357-93e6-d97883d6d574",
   "metadata": {},
   "outputs": [
    {
     "data": {
      "text/plain": [
       "array([447, 631])"
      ]
     },
     "execution_count": 19,
     "metadata": {},
     "output_type": "execute_result"
    }
   ],
   "source": []
  },
  {
   "cell_type": "code",
   "execution_count": 20,
   "id": "21c17aa7",
   "metadata": {},
   "outputs": [
    {
     "data": {
      "text/plain": [
       "[{'name': 'StatefulPartitionedCall:0',\n",
       "  'index': 312,\n",
       "  'shape': array([ 1,  1, 17,  3]),\n",
       "  'shape_signature': array([ 1,  1, 17,  3]),\n",
       "  'dtype': numpy.float32,\n",
       "  'quantization': (0.0, 0),\n",
       "  'quantization_parameters': {'scales': array([], dtype=float32),\n",
       "   'zero_points': array([], dtype=int32),\n",
       "   'quantized_dimension': 0},\n",
       "  'sparsity_parameters': {}}]"
      ]
     },
     "execution_count": 20,
     "metadata": {},
     "output_type": "execute_result"
    }
   ],
   "source": []
  },
  {
   "cell_type": "code",
   "execution_count": null,
   "id": "ff618319",
   "metadata": {},
   "outputs": [
    {
     "ename": "",
     "evalue": "",
     "output_type": "error",
     "traceback": [
      "\u001b[1;31mFailed to start the Kernel. \n",
      "\u001b[1;31mC:\\Users\\ip 5\\AppData\\Local\\Packages\\PythonSoftwareFoundation.Python.3.9_qbz5n2kfra8p0\\LocalCache\\local-packages\\Python39\\site-packages\\traitlets\\traitlets.py:2392: FutureWarning: Supporting extra quotes around strings is deprecated in traitlets 5.0. You can use 'c:\\\\Users\\\\ip 5\\\\AppData\\\\Roaming\\\\jupyter\\\\runtime\\\\kernel-v2-196845D25jy67FVpK.json' instead of '\"c:\\\\Users\\\\ip 5\\\\AppData\\\\Roaming\\\\jupyter\\\\runtime\\\\kernel-v2-196845D25jy67FVpK.json\"' if you require traitlets >=5.\n",
      "\u001b[1;31m  warn(\n",
      "\u001b[1;31mBad file descriptor (C:\\projects\\libzmq\\src\\epoll.cpp:100). \n",
      "\u001b[1;31mView Jupyter <a href='command:jupyter.viewOutput'>log</a> for further details."
     ]
    }
   ],
   "source": []
  },
  {
   "cell_type": "code",
   "execution_count": 5,
   "id": "83872525",
   "metadata": {},
   "outputs": [],
   "source": []
  },
  {
   "cell_type": "code",
   "execution_count": 8,
   "id": "4fb6daaf",
   "metadata": {},
   "outputs": [],
   "source": []
  },
  {
   "cell_type": "code",
   "execution_count": null,
   "id": "fce37ebb",
   "metadata": {},
   "outputs": [],
   "source": []
  }
 ],
 "metadata": {
  "kernelspec": {
   "display_name": "Python 3 (ipykernel)",
   "language": "python",
   "name": "python3"
  },
  "language_info": {
   "codemirror_mode": {
    "name": "ipython",
    "version": 3
   },
   "file_extension": ".py",
   "mimetype": "text/x-python",
   "name": "python",
   "nbconvert_exporter": "python",
   "pygments_lexer": "ipython3",
   "version": "3.8.8"
  },
  "vscode": {
   "interpreter": {
    "hash": "d0c20ffb7c838a211a9aff8d62a7d7d4b3c419ad383ce16179324e1575e811e8"
   }
  }
 },
 "nbformat": 4,
 "nbformat_minor": 5
}
